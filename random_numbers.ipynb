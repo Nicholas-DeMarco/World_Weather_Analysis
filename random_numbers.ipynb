{
 "cells": [
  {
   "cell_type": "code",
   "execution_count": 1,
   "id": "cefc9f5f",
   "metadata": {},
   "outputs": [],
   "source": [
    "# Import the random module.\n",
    "\n",
    "import random"
   ]
  },
  {
   "cell_type": "code",
   "execution_count": 2,
   "id": "0f71feb3",
   "metadata": {},
   "outputs": [
    {
     "data": {
      "text/plain": [
       "72"
      ]
     },
     "execution_count": 2,
     "metadata": {},
     "output_type": "execute_result"
    }
   ],
   "source": [
    "random.randint(-90,90)"
   ]
  },
  {
   "cell_type": "code",
   "execution_count": 7,
   "id": "b507e5b7",
   "metadata": {},
   "outputs": [
    {
     "data": {
      "text/plain": [
       "0.1866028264008135"
      ]
     },
     "execution_count": 7,
     "metadata": {},
     "output_type": "execute_result"
    }
   ],
   "source": [
    "# Using the random.random() function, we can get a single floating-point decimal number between 0 and 1.0.\n",
    "\n",
    "random.random()"
   ]
  },
  {
   "cell_type": "code",
   "execution_count": 14,
   "id": "eb04a4e5",
   "metadata": {},
   "outputs": [
    {
     "data": {
      "text/plain": [
       "-40.686779118273954"
      ]
     },
     "execution_count": 14,
     "metadata": {},
     "output_type": "execute_result"
    }
   ],
   "source": [
    "# If we combine random.randint(-90, 89) and random.random() to generate a floating-point decimal between -90 and 90,\n",
    "# we can generate a random latitude. We changed the lower range of the randint() because we want whole numbers up to 89,\n",
    "# so when we add the floating-point decimal number, we'll generate latitudes between –89.99999 and 89.99999.\n",
    "\n",
    "random_number = random.randint(-90,89) + random.random()\n",
    "\n",
    "random_number"
   ]
  },
  {
   "cell_type": "code",
   "execution_count": 19,
   "id": "117fb8de",
   "metadata": {},
   "outputs": [
    {
     "data": {
      "text/plain": [
       "[-19.169722518260457,\n",
       " 78.63004507252242,\n",
       " -14.051289304806183,\n",
       " -29.151800329075368,\n",
       " -19.000722097908785,\n",
       " 85.83849718704393,\n",
       " 58.708361909660546,\n",
       " -21.81141074497071,\n",
       " 40.59968184305455,\n",
       " 5.29416880639413]"
      ]
     },
     "execution_count": 19,
     "metadata": {},
     "output_type": "execute_result"
    }
   ],
   "source": [
    "x = 1\n",
    "\n",
    "latitudes = []\n",
    "\n",
    "while x < 11:\n",
    "    \n",
    "    random_lat = random.randint(-90, 89) + random.random()\n",
    "    \n",
    "    latitudes.append(random_lat)\n",
    "    \n",
    "    x += 1\n",
    "    \n",
    "latitudes"
   ]
  },
  {
   "cell_type": "code",
   "execution_count": 25,
   "id": "84739865",
   "metadata": {},
   "outputs": [
    {
     "data": {
      "text/plain": [
       "-8"
      ]
     },
     "execution_count": 25,
     "metadata": {},
     "output_type": "execute_result"
    }
   ],
   "source": [
    "# add random.randrange(-90, 90, step=1) to a new cell and run the cell.\n",
    "# The output is a number between -90 and 90, where the step is the difference between each number in the sequence.\n",
    "\n",
    "random.randrange(-90, 90, step=1)"
   ]
  },
  {
   "cell_type": "code",
   "execution_count": 27,
   "id": "8b6e8e26",
   "metadata": {},
   "outputs": [
    {
     "data": {
      "text/plain": [
       "63"
      ]
     },
     "execution_count": 27,
     "metadata": {},
     "output_type": "execute_result"
    }
   ],
   "source": [
    "random.randrange(-90, 90, step=3)"
   ]
  },
  {
   "cell_type": "code",
   "execution_count": 28,
   "id": "8e932f46",
   "metadata": {},
   "outputs": [
    {
     "data": {
      "text/plain": [
       "7.208617542430289"
      ]
     },
     "execution_count": 28,
     "metadata": {},
     "output_type": "execute_result"
    }
   ],
   "source": [
    "# The uniform() function will allow us to generate a floating-point decimal number between two given numbers\n",
    "# inside the parentheses.\n",
    "\n",
    "random.uniform(-90, 90)"
   ]
  },
  {
   "cell_type": "code",
   "execution_count": 29,
   "id": "d6349123",
   "metadata": {},
   "outputs": [],
   "source": [
    "# Import the NumPy module.\n",
    "\n",
    "import numpy as np"
   ]
  },
  {
   "cell_type": "code",
   "execution_count": 30,
   "id": "daf34b60",
   "metadata": {},
   "outputs": [
    {
     "data": {
      "text/plain": [
       "26.00043160431376"
      ]
     },
     "execution_count": 30,
     "metadata": {},
     "output_type": "execute_result"
    }
   ],
   "source": [
    "# add np.random.uniform(-90.000, 90.000) to generate a floating-point decimal number between -90.000 and 90.000.\n",
    "# Adding the zeros past the decimal places is optional.\n",
    "\n",
    "np.random.uniform(-90.000, 90.000)"
   ]
  },
  {
   "cell_type": "code",
   "execution_count": 31,
   "id": "493e62e6",
   "metadata": {},
   "outputs": [
    {
     "data": {
      "text/plain": [
       "array([ 17.51284248,  77.27990995,  48.94686702,  77.76264662,\n",
       "        86.96000582,  66.45875332,  84.54644182,  11.23456826,\n",
       "        46.61556476,  37.07252338,  27.66624705,  49.48000225,\n",
       "        42.79725892,  45.27446882, -89.13451222, -81.77912246,\n",
       "       -89.1871001 ,  34.39159175, -60.44283303, -66.57616188,\n",
       "       -34.19084231, -64.3613045 ,  85.11297159,  -5.58476287,\n",
       "       -50.92795182, -80.96388007,  87.02858746,   8.72329215,\n",
       "        11.58514394, -23.9070752 ,  71.71909845,  68.30233719,\n",
       "        66.81222264,  79.15281215,  33.86036904,  18.82452582,\n",
       "        48.18396964,  81.57034295,   4.87573605, -45.82341765,\n",
       "        19.83641475,  86.25620076, -49.81162425,  57.72637649,\n",
       "       -65.6451138 ,  28.69752575,  53.72601283, -38.56927331,\n",
       "       -58.25333593,  15.65774067])"
      ]
     },
     "execution_count": 31,
     "metadata": {},
     "output_type": "execute_result"
    }
   ],
   "source": [
    "# To generate more than one floating-point decimal number between -90 and 90,\n",
    "# we can add the size parameter when we use the NumPy module and set that equal to any whole number.\n",
    "# Add the code np.random.uniform(-90.000, 90.000, size=50) to a new cell and run the cell.\n",
    "# The output is an array of 50 floating-point decimal numbers between -90.000 and 90.000.\n",
    "\n",
    "np.random.uniform(-90.000, 90.000, size=50)"
   ]
  },
  {
   "cell_type": "code",
   "execution_count": 32,
   "id": "9fc5d7d0",
   "metadata": {},
   "outputs": [],
   "source": [
    "# Import timeit.\n",
    "\n",
    "import timeit"
   ]
  },
  {
   "cell_type": "code",
   "execution_count": 33,
   "id": "67edd9cb",
   "metadata": {},
   "outputs": [
    {
     "name": "stdout",
     "output_type": "stream",
     "text": [
      "12 µs ± 90.1 ns per loop (mean ± std. dev. of 7 runs, 100000 loops each)\n"
     ]
    }
   ],
   "source": [
    "# add the %timeit magic command before the np.random.uniform(-90.000, 90.000, size=1500) in a new cell.\n",
    "# The cell should look like this: %timeit np.random.uniform(-90.000, 90.000, size=1500)\n",
    "\n",
    "%timeit np.random.uniform(-90.000, 90.000, size=1500)"
   ]
  },
  {
   "cell_type": "code",
   "execution_count": 34,
   "id": "1956797e",
   "metadata": {},
   "outputs": [
    {
     "name": "stdout",
     "output_type": "stream",
     "text": [
      "1.53 ms ± 3.58 µs per loop (mean ± std. dev. of 7 runs, 1000 loops each)\n"
     ]
    }
   ],
   "source": [
    "def latitudes(size):\n",
    "    \n",
    "    latitudes = []\n",
    "    \n",
    "    x = 0\n",
    "    \n",
    "    while x < (size):\n",
    "        \n",
    "        random_lat = random.randint(-90, 90) + random.random()\n",
    "        \n",
    "        latitudes.append(random_lat)\n",
    "        \n",
    "        x += 1\n",
    "        \n",
    "    return latitudes\n",
    "\n",
    "# Call the function with 1500.\n",
    "\n",
    "%timeit latitudes(1500)"
   ]
  },
  {
   "cell_type": "code",
   "execution_count": null,
   "id": "da727f74",
   "metadata": {},
   "outputs": [],
   "source": []
  }
 ],
 "metadata": {
  "kernelspec": {
   "display_name": "PythonData",
   "language": "python",
   "name": "pythondata"
  },
  "language_info": {
   "codemirror_mode": {
    "name": "ipython",
    "version": 3
   },
   "file_extension": ".py",
   "mimetype": "text/x-python",
   "name": "python",
   "nbconvert_exporter": "python",
   "pygments_lexer": "ipython3",
   "version": "3.7.6"
  }
 },
 "nbformat": 4,
 "nbformat_minor": 5
}
